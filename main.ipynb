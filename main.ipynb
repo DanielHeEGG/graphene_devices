{
 "cells": [
  {
   "cell_type": "code",
   "execution_count": 1,
   "id": "80652eae",
   "metadata": {},
   "outputs": [],
   "source": [
    "import gdstk\n",
    "import numpy as np"
   ]
  },
  {
   "cell_type": "code",
   "execution_count": 2,
   "id": "7ab3a18a",
   "metadata": {},
   "outputs": [],
   "source": [
    "WAFER_DIAMETER = 150000\n",
    "\n",
    "FIELD_SIZE = 300\n",
    "\n",
    "# hall bar shape\n",
    "HALL_BAR_SIZE_X = 10\n",
    "HALL_BAR_SIZE_Y = 10\n",
    "HALL_BAR_OFFSET_X = 0\n",
    "HALL_BAR_OFFSET_Y = 0\n",
    "HALL_BAR_OFFSET_R = 0\n",
    "\n",
    "# metal contact shapes\n",
    "METAL_CONTACT_WIDTH = 0.6\n",
    "METAL_CONTACT_OVERLAP = 1\n",
    "METAL_CONTACT_MATING_SIZE = 5\n",
    "METAL_PAD_SIZE = 250\n",
    "\n",
    "# total contact count is METAL_CONTACT_SIDES * METAL_CONTACT_COUNT * 2\n",
    "METAL_CONTACT_SIDES = 4\n",
    "METAL_CONTACT_COUNT = 2\n",
    "\n",
    "# dicing blade dimensions\n",
    "BLADE_KERF = 100\n",
    "CHIP_BORDER_WIDTH = 500"
   ]
  },
  {
   "cell_type": "code",
   "execution_count": 3,
   "id": "5153f46a",
   "metadata": {},
   "outputs": [
    {
     "name": "stdout",
     "output_type": "stream",
     "text": [
      "10000.0\n"
     ]
    }
   ],
   "source": [
    "METAL_CONTACT_PITCH_X = HALL_BAR_SIZE_X / (METAL_CONTACT_COUNT + 1) * 0.5\n",
    "METAL_CONTACT_PITCH_Y = HALL_BAR_SIZE_Y / (METAL_CONTACT_COUNT + 1) * 0.5\n",
    "\n",
    "ACTIVE_REGION_SIZE = (\n",
    "    np.ceil((METAL_CONTACT_COUNT + 1) * METAL_PAD_SIZE * 8 / 1000) * 1000\n",
    ")\n",
    "\n",
    "CHIP_SIZE = ACTIVE_REGION_SIZE + 4000\n",
    "print(CHIP_SIZE)"
   ]
  },
  {
   "cell_type": "code",
   "execution_count": 4,
   "id": "1d03694a",
   "metadata": {},
   "outputs": [],
   "source": [
    "lib = gdstk.Library(unit=1e-6, precision=1e-9)\n",
    "cell_chip = lib.new_cell(\"CHIP\")"
   ]
  },
  {
   "cell_type": "code",
   "execution_count": 5,
   "id": "63bc1dfc",
   "metadata": {},
   "outputs": [
    {
     "data": {
      "text/plain": [
       "<gdstk.Cell at 0x1179ef670>"
      ]
     },
     "execution_count": 5,
     "metadata": {},
     "output_type": "execute_result"
    }
   ],
   "source": [
    "# chip metal border\n",
    "\n",
    "outer = CHIP_SIZE * 0.5 - BLADE_KERF * 0.5\n",
    "inner = CHIP_SIZE * 0.5 - BLADE_KERF * 0.5 - CHIP_BORDER_WIDTH\n",
    "cell_chip.add(\n",
    "    *gdstk.boolean(\n",
    "        gdstk.rectangle((-outer, -outer), (outer, outer)),\n",
    "        gdstk.rectangle((-inner, -inner), (inner, inner)),\n",
    "        \"not\",\n",
    "        layer=0,\n",
    "        datatype=0,\n",
    "    )\n",
    ")"
   ]
  },
  {
   "cell_type": "code",
   "execution_count": 6,
   "id": "0a436fe6",
   "metadata": {},
   "outputs": [
    {
     "data": {
      "text/plain": [
       "<gdstk.Cell at 0x1179ef670>"
      ]
     },
     "execution_count": 6,
     "metadata": {},
     "output_type": "execute_result"
    }
   ],
   "source": [
    "# CABL REG2 automatic alignment mark\n",
    "\n",
    "cell_cabl_mark_reg2 = lib.new_cell(\"CABL_MARK_REG2\")\n",
    "cell_cabl_mark_reg2.add(gdstk.rectangle((-300, -1.5), (300, 1.5), layer=0, datatype=0))\n",
    "cell_cabl_mark_reg2.add(gdstk.rectangle((-1.5, -300), (1.5, 300), layer=0, datatype=0))\n",
    "\n",
    "cell_chip.add(\n",
    "    gdstk.Reference(\n",
    "        cell_cabl_mark_reg2,\n",
    "        (-(CHIP_SIZE * 0.5 - 1000), -(CHIP_SIZE * 0.5 - 1000)),\n",
    "    )\n",
    ")\n",
    "cell_chip.add(\n",
    "    gdstk.Reference(\n",
    "        cell_cabl_mark_reg2,\n",
    "        (-(CHIP_SIZE * 0.5 - 1000), (CHIP_SIZE * 0.5 - 1000)),\n",
    "    )\n",
    ")"
   ]
  },
  {
   "cell_type": "code",
   "execution_count": null,
   "id": "ac3fb908",
   "metadata": {},
   "outputs": [
    {
     "data": {
      "text/plain": [
       "<gdstk.Cell at 0x1179ef670>"
      ]
     },
     "execution_count": 7,
     "metadata": {},
     "output_type": "execute_result"
    }
   ],
   "source": [
    "# MLA150 automatic alignment mark\n",
    "\n",
    "cell_mla_mark = lib.new_cell(\"MLA_MARK\")\n",
    "cell_mla_mark_poly0 = gdstk.Polygon(\n",
    "    [\n",
    "        (-0.75, -0.75),\n",
    "        (-0.75, -7.5),\n",
    "        (-125, -7.5),\n",
    "        (-125, -15),\n",
    "        (-425, -15),\n",
    "        (-425, 15),\n",
    "        (-125, 15),\n",
    "        (-125, 7.5),\n",
    "        (-0.75, 7.5),\n",
    "        (-0.75, 0.75),\n",
    "        (-7.5, 0.75),\n",
    "        (-7.5, -0.75),\n",
    "    ],\n",
    "    layer=0,\n",
    "    datatype=0,\n",
    ")\n",
    "cell_mla_mark.add(cell_mla_mark_poly0)\n",
    "cell_mla_mark.add(cell_mla_mark_poly0.copy().rotate(np.pi * 0.5))\n",
    "cell_mla_mark.add(cell_mla_mark_poly0.copy().rotate(np.pi))\n",
    "cell_mla_mark.add(cell_mla_mark_poly0.copy().rotate(np.pi * 1.5))\n",
    "\n",
    "cell_chip.add(\n",
    "    gdstk.Reference(\n",
    "        cell_mla_mark, (-(CHIP_SIZE * 0.5 - 2000), -(CHIP_SIZE * 0.5 - 2000))\n",
    "    )\n",
    ")\n",
    "cell_chip.add(\n",
    "    gdstk.Reference(\n",
    "        cell_mla_mark, (-(CHIP_SIZE * 0.5 - 2000), (CHIP_SIZE * 0.5 - 2000))\n",
    "    )\n",
    ")\n",
    "cell_chip.add(\n",
    "    gdstk.Reference(\n",
    "        cell_mla_mark, ((CHIP_SIZE * 0.5 - 2000), -(CHIP_SIZE * 0.5 - 2000))\n",
    "    )\n",
    ")"
   ]
  },
  {
   "cell_type": "code",
   "execution_count": null,
   "id": "7f191118",
   "metadata": {},
   "outputs": [
    {
     "data": {
      "text/plain": [
       "<gdstk.Cell at 0x1179ef670>"
      ]
     },
     "execution_count": 8,
     "metadata": {},
     "output_type": "execute_result"
    }
   ],
   "source": [
    "# Additional chip logos & markers\n",
    "\n",
    "cell_chip.add(\n",
    "    *gdstk.text(\n",
    "        \"Twisted Graphene Devices, Substrate v1\\nDaniel He, Cao Lab, 2025\",\n",
    "        100,\n",
    "        (-(CHIP_SIZE * 0.5 - 3000), -(CHIP_SIZE * 0.5 - 2000)),\n",
    "        layer=0,\n",
    "        datatype=0,\n",
    "    )\n",
    ")\n",
    "\n",
    "lib_symbols = gdstk.read_gds(\"./gdslib_fun_symbols/main.gds\")\n",
    "\n",
    "lib.add(lib_symbols[\"CAL_LOGO\"])\n",
    "cell_chip.add(\n",
    "    gdstk.Reference(\n",
    "        lib_symbols[\"CAL_LOGO\"],\n",
    "        (-(CHIP_SIZE * 0.5 - 2800), -(CHIP_SIZE * 0.5 - 2000)),\n",
    "        magnification=20,\n",
    "    )\n",
    ")\n",
    "\n",
    "lib.add(lib_symbols[\"EYE_OF_THE_UNIVERSE\"])\n",
    "cell_chip.add(\n",
    "    gdstk.Reference(\n",
    "        lib_symbols[\"EYE_OF_THE_UNIVERSE\"],\n",
    "        ((CHIP_SIZE * 0.5 - 2000), (CHIP_SIZE * 0.5 - 2000)),\n",
    "        magnification=100,\n",
    "    )\n",
    ")"
   ]
  },
  {
   "cell_type": "code",
   "execution_count": 9,
   "id": "3a734c21",
   "metadata": {},
   "outputs": [
    {
     "data": {
      "text/plain": [
       "<gdstk.Cell at 0x1179ef670>"
      ]
     },
     "execution_count": 9,
     "metadata": {},
     "output_type": "execute_result"
    }
   ],
   "source": [
    "cell_sample_region_mark = lib.new_cell(\"SAMPLE_REGION_MARK\")\n",
    "cell_sample_region_mark.add(gdstk.rectangle((-4, -4), (0, 0), layer=0, datatype=0))\n",
    "cell_sample_region_mark.add(gdstk.rectangle((0, 0), (2, 2), layer=0, datatype=0))\n",
    "\n",
    "cell_chip.add(\n",
    "    gdstk.Reference(\n",
    "        cell_sample_region_mark,\n",
    "        (-FIELD_SIZE * 0.125, -FIELD_SIZE * 0.125),\n",
    "        rotation=0,\n",
    "    )\n",
    ")\n",
    "cell_chip.add(\n",
    "    gdstk.Reference(\n",
    "        cell_sample_region_mark,\n",
    "        (FIELD_SIZE * 0.125, -FIELD_SIZE * 0.125),\n",
    "        rotation=np.pi * 0.5,\n",
    "    )\n",
    ")\n",
    "cell_chip.add(\n",
    "    gdstk.Reference(\n",
    "        cell_sample_region_mark,\n",
    "        (-FIELD_SIZE * 0.125, FIELD_SIZE * 0.125),\n",
    "        rotation=np.pi * 1.5,\n",
    "    )\n",
    ")"
   ]
  },
  {
   "cell_type": "code",
   "execution_count": 10,
   "id": "7ae7785a",
   "metadata": {},
   "outputs": [],
   "source": [
    "cell_metal_pad = lib.new_cell(\"METAL_PAD\")\n",
    "\n",
    "for i in range(METAL_CONTACT_COUNT):\n",
    "    p0 = (\n",
    "        -(ACTIVE_REGION_SIZE * 0.5 - METAL_PAD_SIZE * 2.5),\n",
    "        -METAL_PAD_SIZE * 2 * (2 * i + 1),\n",
    "    )\n",
    "    p1 = (-FIELD_SIZE * 4, -METAL_PAD_SIZE * 2 * (2 * i + 1))\n",
    "    p2 = (-FIELD_SIZE * 2, -METAL_CONTACT_MATING_SIZE * 4 * (2 * i + 1))\n",
    "    p3 = (-FIELD_SIZE * 0.5, -METAL_CONTACT_MATING_SIZE * 4 * (2 * i + 1))\n",
    "\n",
    "    trace = gdstk.FlexPath(p0, METAL_PAD_SIZE * 0.5)\n",
    "    trace.bezier(\n",
    "        [p0, p1, p2, (p3[0] + METAL_CONTACT_MATING_SIZE * 2, p3[1])],\n",
    "        width=METAL_CONTACT_MATING_SIZE * 2,\n",
    "    )\n",
    "    cell_metal_pad.add(\n",
    "        *gdstk.boolean(\n",
    "            trace,\n",
    "            gdstk.rectangle(\n",
    "                (p0[0] - METAL_PAD_SIZE, p0[1] - METAL_PAD_SIZE),\n",
    "                (p0[0] + METAL_PAD_SIZE, p0[1] + METAL_PAD_SIZE),\n",
    "            ),\n",
    "            \"or\",\n",
    "            layer=0,\n",
    "            datatype=0,\n",
    "        )\n",
    "    )\n",
    "\n",
    "for s in range(METAL_CONTACT_SIDES):\n",
    "    cell_chip.add(\n",
    "        gdstk.Reference(\n",
    "            cell_metal_pad, (0, 0), rotation=s * np.pi * 0.5, x_reflection=False\n",
    "        )\n",
    "    )\n",
    "    cell_chip.add(\n",
    "        gdstk.Reference(\n",
    "            cell_metal_pad, (0, 0), rotation=s * np.pi * 0.5, x_reflection=True\n",
    "        )\n",
    "    )"
   ]
  },
  {
   "cell_type": "code",
   "execution_count": 11,
   "id": "7f0ed60c",
   "metadata": {},
   "outputs": [
    {
     "data": {
      "text/plain": [
       "<gdstk.Cell at 0x1179ef670>"
      ]
     },
     "execution_count": 11,
     "metadata": {},
     "output_type": "execute_result"
    }
   ],
   "source": [
    "def rotate(point, angle):\n",
    "    return (\n",
    "        point[0] * np.cos(angle) - point[1] * np.sin(angle),\n",
    "        point[0] * np.sin(angle) + point[1] * np.cos(angle),\n",
    "    )\n",
    "\n",
    "\n",
    "def translate_offset(point):\n",
    "    return (\n",
    "        point[0] * np.cos(HALL_BAR_OFFSET_R)\n",
    "        - point[1] * np.sin(HALL_BAR_OFFSET_R)\n",
    "        + HALL_BAR_OFFSET_X,\n",
    "        point[0] * np.sin(HALL_BAR_OFFSET_R)\n",
    "        + point[1] * np.cos(HALL_BAR_OFFSET_R)\n",
    "        + HALL_BAR_OFFSET_Y,\n",
    "    )\n",
    "\n",
    "\n",
    "cell_hall_bar_etch = lib.new_cell(\"HALL_BAR_ETCH\")\n",
    "cell_hall_bar_etch.add(\n",
    "    *gdstk.boolean(\n",
    "        gdstk.rectangle(\n",
    "            (-FIELD_SIZE * 0.5, -FIELD_SIZE * 0.5),\n",
    "            (FIELD_SIZE * 0.5, FIELD_SIZE * 0.5),\n",
    "        ),\n",
    "        gdstk.Polygon(\n",
    "            [\n",
    "                translate_offset((-HALL_BAR_SIZE_X * 0.5, -HALL_BAR_SIZE_Y * 0.5)),\n",
    "                translate_offset((HALL_BAR_SIZE_X * 0.5, -HALL_BAR_SIZE_Y * 0.5)),\n",
    "                translate_offset((HALL_BAR_SIZE_X * 0.5, HALL_BAR_SIZE_Y * 0.5)),\n",
    "                translate_offset((-HALL_BAR_SIZE_X * 0.5, HALL_BAR_SIZE_Y * 0.5)),\n",
    "            ]\n",
    "        ),\n",
    "        \"not\",\n",
    "        layer=1,\n",
    "        datatype=0,\n",
    "    )\n",
    ")\n",
    "\n",
    "cell_chip.add(gdstk.Reference(cell_hall_bar_etch, (0, 0)))\n",
    "\n",
    "\n",
    "cell_metal_contact = lib.new_cell(\"METAL_CONTACT\")\n",
    "\n",
    "metal_trace_p0 = []\n",
    "metal_trace_p1 = []\n",
    "metal_trace_p2 = []\n",
    "metal_trace_p3 = []\n",
    "for s in range(METAL_CONTACT_SIDES):\n",
    "    for i in range(METAL_CONTACT_COUNT):\n",
    "        for sign in [-1, 1]:\n",
    "            p0 = rotate(\n",
    "                (-FIELD_SIZE * 0.5, sign * METAL_CONTACT_MATING_SIZE * 4 * (2 * i + 1)),\n",
    "                s * np.pi * 0.5,\n",
    "            )\n",
    "            p1 = rotate(\n",
    "                (-FIELD_SIZE * 0.3, sign * METAL_CONTACT_MATING_SIZE * 4 * (2 * i + 1)),\n",
    "                s * np.pi * 0.5,\n",
    "            )\n",
    "\n",
    "            if s % 2 == 0:\n",
    "                p2 = translate_offset(\n",
    "                    rotate(\n",
    "                        (-FIELD_SIZE * 0.15, sign * METAL_CONTACT_PITCH_Y * (i + 0.5)),\n",
    "                        s * np.pi * 0.5,\n",
    "                    )\n",
    "                )\n",
    "                p3 = translate_offset(\n",
    "                    rotate(\n",
    "                        (\n",
    "                            -HALL_BAR_SIZE_X * 0.5 + METAL_CONTACT_OVERLAP,\n",
    "                            sign * METAL_CONTACT_PITCH_Y * (i + 0.5),\n",
    "                        ),\n",
    "                        s * np.pi * 0.5,\n",
    "                    )\n",
    "                )\n",
    "            else:\n",
    "                p2 = translate_offset(\n",
    "                    rotate(\n",
    "                        (\n",
    "                            -sign * METAL_CONTACT_PITCH_X * (i + 0.5),\n",
    "                            -FIELD_SIZE * 0.15,\n",
    "                        ),\n",
    "                        (s - 1) * np.pi * 0.5,\n",
    "                    )\n",
    "                )\n",
    "                p3 = translate_offset(\n",
    "                    rotate(\n",
    "                        (\n",
    "                            -sign * METAL_CONTACT_PITCH_X * (i + 0.5),\n",
    "                            -HALL_BAR_SIZE_Y * 0.5 + METAL_CONTACT_OVERLAP,\n",
    "                        ),\n",
    "                        (s - 1) * np.pi * 0.5,\n",
    "                    )\n",
    "                )\n",
    "\n",
    "            trace = gdstk.FlexPath(p0, METAL_CONTACT_MATING_SIZE, layer=2, datatype=0)\n",
    "            trace.bezier([p0, p1, p2, p3], width=METAL_CONTACT_WIDTH)\n",
    "            cell_metal_contact.add(trace)\n",
    "\n",
    "cell_chip.add(gdstk.Reference(cell_metal_contact, (0, 0)))"
   ]
  },
  {
   "cell_type": "code",
   "execution_count": 12,
   "id": "bb02e67b",
   "metadata": {},
   "outputs": [
    {
     "name": "stdout",
     "output_type": "stream",
     "text": [
      "148\n"
     ]
    }
   ],
   "source": [
    "cell_wafer = lib.new_cell(\"WAFER\")\n",
    "\n",
    "chip_array_size = int(WAFER_DIAMETER * 0.5 / CHIP_SIZE) * 2\n",
    "\n",
    "chip_array = [\n",
    "    [\n",
    "        (\n",
    "            CHIP_SIZE * (i - (chip_array_size - 1) * 0.5),\n",
    "            CHIP_SIZE * (j - (chip_array_size - 1) * 0.5),\n",
    "        )\n",
    "        for i in range(chip_array_size)\n",
    "    ]\n",
    "    for j in range(chip_array_size)\n",
    "]\n",
    "\n",
    "chip_count = 0\n",
    "for row in chip_array:\n",
    "    for coord in row:\n",
    "        flag = True\n",
    "        for xsign in [-1, 1]:\n",
    "            for ysign in [-1, 1]:\n",
    "                if (coord[0] + xsign * CHIP_SIZE * 0.5) ** 2 + (\n",
    "                    coord[1] + ysign * CHIP_SIZE * 0.5\n",
    "                ) ** 2 >= (WAFER_DIAMETER * 0.5) ** 2:\n",
    "                    flag = False\n",
    "        if flag:\n",
    "            chip_count += 1\n",
    "            cell_wafer.add(gdstk.Reference(cell_chip, coord))\n",
    "\n",
    "print(chip_count)"
   ]
  },
  {
   "cell_type": "code",
   "execution_count": 13,
   "id": "0ca23d2a",
   "metadata": {},
   "outputs": [],
   "source": [
    "lib.write_gds(\"main.gds\")"
   ]
  }
 ],
 "metadata": {
  "kernelspec": {
   "display_name": "venv",
   "language": "python",
   "name": "python3"
  },
  "language_info": {
   "codemirror_mode": {
    "name": "ipython",
    "version": 3
   },
   "file_extension": ".py",
   "mimetype": "text/x-python",
   "name": "python",
   "nbconvert_exporter": "python",
   "pygments_lexer": "ipython3",
   "version": "3.13.7"
  }
 },
 "nbformat": 4,
 "nbformat_minor": 5
}
